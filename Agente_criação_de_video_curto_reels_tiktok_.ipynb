{
  "nbformat": 4,
  "nbformat_minor": 0,
  "metadata": {
    "colab": {
      "provenance": []
    },
    "kernelspec": {
      "name": "python3",
      "display_name": "Python 3"
    },
    "language_info": {
      "name": "python"
    }
  },
  "cells": [
    {
      "cell_type": "code",
      "source": [
        "%pip -q install google-genai"
      ],
      "metadata": {
        "id": "UCCbECexLk_h"
      },
      "execution_count": 1,
      "outputs": []
    },
    {
      "cell_type": "code",
      "source": [
        "# Configurando a API Key do Google Gemini\n",
        "\n",
        "import os\n",
        "from google.colab import userdata\n",
        "\n",
        "os.environ[\"GOOGLE_API_KEY\"] = userdata.get('GOOGLE_API_KEY')"
      ],
      "metadata": {
        "id": "NfCqHo1tLk8P"
      },
      "execution_count": 2,
      "outputs": []
    },
    {
      "cell_type": "code",
      "source": [
        "# Configurando o cliente da SDK do Gemini\n",
        "\n",
        "from google import genai\n",
        "\n",
        "client = genai.Client()\n",
        "\n",
        "MODEL_ID = \"gemini-2.0-flash\""
      ],
      "metadata": {
        "id": "bV4w0H5TLk5g"
      },
      "execution_count": 3,
      "outputs": []
    },
    {
      "cell_type": "code",
      "source": [
        "# Instalando Framework ADK de agentes do Google ################################################\n",
        "!pip install -q google-adk"
      ],
      "metadata": {
        "id": "hvZ3UnPI4jhJ",
        "colab": {
          "base_uri": "https://localhost:8080/"
        },
        "outputId": "91e80e5d-5bde-4efa-f92e-6bb7d505dfe0"
      },
      "execution_count": 4,
      "outputs": [
        {
          "output_type": "stream",
          "name": "stdout",
          "text": [
            "\u001b[?25l   \u001b[90m━━━━━━━━━━━━━━━━━━━━━━━━━━━━━━━━━━━━━━━━\u001b[0m \u001b[32m0.0/1.2 MB\u001b[0m \u001b[31m?\u001b[0m eta \u001b[36m-:--:--\u001b[0m\r\u001b[2K   \u001b[91m━━━━━━━━━━━━━━━━━━━━━━━━━━━━━\u001b[0m\u001b[91m╸\u001b[0m\u001b[90m━━━━━━━━━━\u001b[0m \u001b[32m0.9/1.2 MB\u001b[0m \u001b[31m28.1 MB/s\u001b[0m eta \u001b[36m0:00:01\u001b[0m\r\u001b[2K   \u001b[90m━━━━━━━━━━━━━━━━━━━━━━━━━━━━━━━━━━━━━━━━\u001b[0m \u001b[32m1.2/1.2 MB\u001b[0m \u001b[31m20.7 MB/s\u001b[0m eta \u001b[36m0:00:00\u001b[0m\n",
            "\u001b[?25h\u001b[?25l   \u001b[90m━━━━━━━━━━━━━━━━━━━━━━━━━━━━━━━━━━━━━━━━\u001b[0m \u001b[32m0.0/232.1 kB\u001b[0m \u001b[31m?\u001b[0m eta \u001b[36m-:--:--\u001b[0m\r\u001b[2K   \u001b[90m━━━━━━━━━━━━━━━━━━━━━━━━━━━━━━━━━━━━━━━━\u001b[0m \u001b[32m232.1/232.1 kB\u001b[0m \u001b[31m16.1 MB/s\u001b[0m eta \u001b[36m0:00:00\u001b[0m\n",
            "\u001b[?25h\u001b[?25l   \u001b[90m━━━━━━━━━━━━━━━━━━━━━━━━━━━━━━━━━━━━━━━━\u001b[0m \u001b[32m0.0/95.2 kB\u001b[0m \u001b[31m?\u001b[0m eta \u001b[36m-:--:--\u001b[0m\r\u001b[2K   \u001b[90m━━━━━━━━━━━━━━━━━━━━━━━━━━━━━━━━━━━━━━━━\u001b[0m \u001b[32m95.2/95.2 kB\u001b[0m \u001b[31m7.5 MB/s\u001b[0m eta \u001b[36m0:00:00\u001b[0m\n",
            "\u001b[2K   \u001b[90m━━━━━━━━━━━━━━━━━━━━━━━━━━━━━━━━━━━━━━━━\u001b[0m \u001b[32m217.1/217.1 kB\u001b[0m \u001b[31m16.8 MB/s\u001b[0m eta \u001b[36m0:00:00\u001b[0m\n",
            "\u001b[2K   \u001b[90m━━━━━━━━━━━━━━━━━━━━━━━━━━━━━━━━━━━━━━━━\u001b[0m \u001b[32m334.1/334.1 kB\u001b[0m \u001b[31m22.0 MB/s\u001b[0m eta \u001b[36m0:00:00\u001b[0m\n",
            "\u001b[2K   \u001b[90m━━━━━━━━━━━━━━━━━━━━━━━━━━━━━━━━━━━━━━━━\u001b[0m \u001b[32m125.1/125.1 kB\u001b[0m \u001b[31m9.8 MB/s\u001b[0m eta \u001b[36m0:00:00\u001b[0m\n",
            "\u001b[2K   \u001b[90m━━━━━━━━━━━━━━━━━━━━━━━━━━━━━━━━━━━━━━━━\u001b[0m \u001b[32m65.8/65.8 kB\u001b[0m \u001b[31m4.6 MB/s\u001b[0m eta \u001b[36m0:00:00\u001b[0m\n",
            "\u001b[2K   \u001b[90m━━━━━━━━━━━━━━━━━━━━━━━━━━━━━━━━━━━━━━━━\u001b[0m \u001b[32m119.0/119.0 kB\u001b[0m \u001b[31m9.1 MB/s\u001b[0m eta \u001b[36m0:00:00\u001b[0m\n",
            "\u001b[2K   \u001b[90m━━━━━━━━━━━━━━━━━━━━━━━━━━━━━━━━━━━━━━━━\u001b[0m \u001b[32m194.9/194.9 kB\u001b[0m \u001b[31m13.9 MB/s\u001b[0m eta \u001b[36m0:00:00\u001b[0m\n",
            "\u001b[2K   \u001b[90m━━━━━━━━━━━━━━━━━━━━━━━━━━━━━━━━━━━━━━━━\u001b[0m \u001b[32m62.5/62.5 kB\u001b[0m \u001b[31m4.7 MB/s\u001b[0m eta \u001b[36m0:00:00\u001b[0m\n",
            "\u001b[2K   \u001b[90m━━━━━━━━━━━━━━━━━━━━━━━━━━━━━━━━━━━━━━━━\u001b[0m \u001b[32m103.3/103.3 kB\u001b[0m \u001b[31m7.2 MB/s\u001b[0m eta \u001b[36m0:00:00\u001b[0m\n",
            "\u001b[2K   \u001b[90m━━━━━━━━━━━━━━━━━━━━━━━━━━━━━━━━━━━━━━━━\u001b[0m \u001b[32m44.4/44.4 kB\u001b[0m \u001b[31m3.0 MB/s\u001b[0m eta \u001b[36m0:00:00\u001b[0m\n",
            "\u001b[2K   \u001b[90m━━━━━━━━━━━━━━━━━━━━━━━━━━━━━━━━━━━━━━━━\u001b[0m \u001b[32m72.0/72.0 kB\u001b[0m \u001b[31m5.1 MB/s\u001b[0m eta \u001b[36m0:00:00\u001b[0m\n",
            "\u001b[?25h"
          ]
        }
      ]
    },
    {
      "cell_type": "code",
      "execution_count": 5,
      "metadata": {
        "id": "aePV2bdfDeoW",
        "colab": {
          "base_uri": "https://localhost:8080/"
        },
        "outputId": "55a9901d-2b22-4a55-cbc8-89411da4d9b4"
      },
      "outputs": [
        {
          "output_type": "stream",
          "name": "stdout",
          "text": [
            "Google ADK instalado e bibliotecas importadas.\n"
          ]
        }
      ],
      "source": [
        "# Instalando Framework ADK de agentes do Google\n",
        "!pip install -q google-adk\n",
        "\n",
        "# Importações necessárias\n",
        "from google.adk.agents import Agent\n",
        "from google.adk.runners import Runner\n",
        "from google.adk.sessions import InMemorySessionService\n",
        "from google.adk.tools import google_search\n",
        "from google.genai import types as genai_types\n",
        "from datetime import date\n",
        "import textwrap\n",
        "from IPython.display import display, Markdown\n",
        "import warnings\n",
        "\n",
        "warnings.filterwarnings(\"ignore\")\n",
        "\n",
        "print(\"Google ADK instalado e bibliotecas importadas.\")"
      ]
    },
    {
      "cell_type": "code",
      "source": [
        "# Função auxiliar que envia uma mensagem para um agente via Runner e retorna a resposta final\n",
        "def call_agent(agent: Agent, message_text: str) -> str:\n",
        "    # Cria um serviço de sessão em memória\n",
        "    session_service = InMemorySessionService()\n",
        "    # Cria uma nova sessão (você pode personalizar os IDs conforme necessário)\n",
        "    session = session_service.create_session(app_name=agent.name, user_id=\"user1\", session_id=\"session1\")\n",
        "    # Cria um Runner para o agente\n",
        "    runner = Runner(agent=agent, app_name=agent.name, session_service=session_service)\n",
        "    # Cria o conteúdo da mensagem de entrada\n",
        "    content = genai_types.Content(role=\"user\", parts=[genai_types.Part(text=message_text)]) # Adaptado aqui\n",
        "\n",
        "    final_response = \"\"\n",
        "    # Itera assincronamente pelos eventos retornados durante a execução do agente\n",
        "    for event in runner.run(user_id=\"user1\", session_id=\"session1\", new_message=content):\n",
        "        if event.is_final_response():\n",
        "          for part in event.content.parts:\n",
        "            if part.text is not None:\n",
        "              final_response += part.text\n",
        "              # final_response += \"\\n\" # Removido para evitar duplas quebras de linha, a saída do LLM geralmente já tem\n",
        "    return final_response\n",
        "\n",
        "print(\"Função call_agent definida.\")"
      ],
      "metadata": {
        "colab": {
          "base_uri": "https://localhost:8080/"
        },
        "id": "uCfYlwMjwtS-",
        "outputId": "81ded341-20a6-4b10-e05e-74a24c59c661"
      },
      "execution_count": 6,
      "outputs": [
        {
          "output_type": "stream",
          "name": "stdout",
          "text": [
            "Função call_agent definida.\n"
          ]
        }
      ]
    },
    {
      "cell_type": "code",
      "source": [
        "# Função auxiliar para exibir texto formatado em Markdown no Colab\n",
        "def to_markdown(text):\n",
        "  text = text.replace('•', '  *')\n",
        "  return Markdown(textwrap.indent(text, '> ', predicate=lambda _: True))\n",
        "\n",
        "print(\"Função to_markdown definida.\")"
      ],
      "metadata": {
        "id": "8dosiodaxfFR",
        "colab": {
          "base_uri": "https://localhost:8080/"
        },
        "outputId": "b939121a-b33c-4777-e011-ef8331935858"
      },
      "execution_count": 7,
      "outputs": [
        {
          "output_type": "stream",
          "name": "stdout",
          "text": [
            "Função to_markdown definida.\n"
          ]
        }
      ]
    },
    {
      "cell_type": "code",
      "source": [
        "###################################################\n",
        "# --- Agente 1: Pesquisador de Temas em Alta --- #\n",
        "###################################################\n",
        "def agente_pesquisador_temas(nicho_usuario: str, data_de_hoje: str) -> str:\n",
        "    \"\"\"\n",
        "    Este agente usa a busca do Google para encontrar temas recentes e relevantes\n",
        "    dentro de um nicho especificado, retornando de 3 a 5 temas promissores\n",
        "    para vídeos curtos.\n",
        "\n",
        "    Args:\n",
        "        nicho_usuario: O nicho de interesse fornecido pelo usuário.\n",
        "        data_de_hoje: A data atual, para dar contexto de tempo ao agente.\n",
        "\n",
        "    Returns:\n",
        "        Uma string contendo a lista de temas sugeridos e suas justificativas.\n",
        "    \"\"\"\n",
        "    # Define o agente com nome, modelo, descrição, ferramentas e instruções (prompt)\n",
        "    pesquisador_temas = Agent(\n",
        "        name=\"agente_pesquisador_temas_v1\", # Nome descritivo para o agente\n",
        "        model=MODEL_ID, # Modelo Gemini a ser usado\n",
        "        description=\"Agente especialista em encontrar temas recentes e relevantes para vídeos curtos com base em um nicho.\",\n",
        "        tools=[google_search], # Ferramenta de busca do Google disponibilizada para o agente\n",
        "        instruction=f\"\"\"\n",
        "        Você é um especialista em tendências de conteúdo para vídeos curtos (TikTok, Reels).\n",
        "        Sua tarefa é usar a ferramenta de busca do Google (google_search) para encontrar os tópicos MAIS RECENTES (últimas 2-4 semanas a partir de {data_de_hoje}) e RELEVANTES dentro do nicho: \"{nicho_usuario}\".\n",
        "        Filtre e identifique de 3 a 5 temas textuais que parecem promissores para criar vídeos curtos virais ou com alto engajamento.\n",
        "        Apresente os temas em uma lista numerada, cada um com uma breve justificativa (1-2 frases) do porquê é promissor.\n",
        "        Exemplo de saída:\n",
        "        1. [Tema 1]: [Justificativa breve]\n",
        "        2. [Tema 2]: [Justificativa breve]\n",
        "        ...\n",
        "        \"\"\"\n",
        "    )\n",
        "\n",
        "    # Define a mensagem de entrada para o agente.\n",
        "    # Embora as informações principais já estejam no prompt, uma mensagem explícita pode ajudar.\n",
        "    entrada_do_agente = f\"Nicho: {nicho_usuario}\\nData de hoje: {data_de_hoje}\\nPor favor, encontre os temas em alta para vídeos curtos.\"\n",
        "\n",
        "    print(f\"\\n🔎 Agente Pesquisador de Temas: Buscando temas para o nicho '{nicho_usuario}'...\")\n",
        "    # Chama o agente usando a função auxiliar e retorna a resposta\n",
        "    temas_encontrados = call_agent(pesquisador_temas, entrada_do_agente)\n",
        "    return temas_encontrados\n",
        "\n",
        "# print(\"Função agente_pesquisador_temas definida.\") # Se quiser confirmação"
      ],
      "metadata": {
        "id": "CgCGfBq-Qv1i"
      },
      "execution_count": 26,
      "outputs": []
    },
    {
      "cell_type": "code",
      "source": [
        "###################################################\n",
        "# --- Agente 2: Gerador de Ângulos Criativos (v2)--- #\n",
        "###################################################\n",
        "def agente_gerador_angulos(tema_escolhido: str) -> str:\n",
        "    \"\"\"\n",
        "    Este agente recebe um tema e sugere 3 ângulos ou formatos de vídeo\n",
        "    criativos para abordar esse tema, seguindo um formato de saída específico.\n",
        "\n",
        "    Args:\n",
        "        tema_escolhido: O tema selecionado pelo usuário.\n",
        "\n",
        "    Returns:\n",
        "        Uma string contendo 3 sugestões de ângulos, cada um com título e descrição.\n",
        "    \"\"\"\n",
        "    gerador_angulos = Agent(\n",
        "        name=\"agente_gerador_angulos_v2\",\n",
        "        model=MODEL_ID,\n",
        "        description=\"Agente criativo que sugere diferentes ângulos e formatos para vídeos curtos sobre um tema específico.\",\n",
        "        tools=[], # Não necessita de ferramentas externas, foca na criatividade do LLM.\n",
        "        instruction=f\"\"\"\n",
        "        Você é um roteirista criativo especializado em vídeos curtos para plataformas como TikTok e Reels.\n",
        "        Seu objetivo é gerar ideias de ângulos e formatos de vídeo.\n",
        "\n",
        "        Dado o tema: \"{tema_escolhido}\"\n",
        "\n",
        "        Sugira 3 ângulos ou formatos de vídeo distintos e criativos para abordar este tema.\n",
        "        Para cada ângulo, siga **EXATAMENTE** o formato abaixo:\n",
        "\n",
        "        **ANGULO X:** [Aqui vai o TÍTULO CURTO E CHAMATIVO do ângulo/formato]\n",
        "        **DESCRIÇÃO:** [Aqui vai a DESCRIÇÃO BREVE (1-2 frases) explicando a ideia central do vídeo para esse ângulo]\n",
        "\n",
        "        --- (use esta linha com três traços para separar cada ângulo) ---\n",
        "\n",
        "        Pense em formatos populares e engajadores.\n",
        "        Apresente os 3 ângulos. Não numere os ângulos com 1, 2, 3. Use \"ANGULO X\" como identificador.\n",
        "\n",
        "        Exemplo de Saída Esperada (apenas para ilustrar a estrutura de UM ângulo):\n",
        "        **ANGULO 1:** Este é o Título do Primeiro Ângulo\n",
        "        **DESCRIÇÃO:** Esta é a breve descrição do que seria o vídeo para o primeiro ângulo.\n",
        "        --- (esta linha separadora é importante entre cada bloco de ângulo)\n",
        "\n",
        "        **ANGULO 2:** Outro Título Criativo Para o Segundo Ângulo\n",
        "        **DESCRIÇÃO:** E aqui a descrição para este segundo ângulo, explicando a ideia.\n",
        "        --- (esta linha separadora é importante entre cada bloco de ângulo)\n",
        "\n",
        "        **ANGULO 3:** Título Final Para o Terceiro Ângulo\n",
        "        **DESCRIÇÃO:** Descrição final para a terceira sugestão de vídeo.\n",
        "        --- (esta linha separadora é importante entre cada bloco de ângulo)\n",
        "        \"\"\"\n",
        "    )\n",
        "\n",
        "    entrada_do_agente = f\"Tema fornecido: {tema_escolhido}\\nPor favor, gere 3 ângulos criativos para este tema seguindo o formato especificado.\"\n",
        "\n",
        "    print(f\"\\n🧠 Agente Gerador de Ângulos (v2): Criando ângulos para o tema '{tema_escolhido}'...\")\n",
        "    angulos_sugeridos = call_agent(gerador_angulos, entrada_do_agente)\n",
        "    return angulos_sugeridos\n",
        "\n",
        "# print(\"Função agente_gerador_angulos (AJUSTADA v2) definida.\")"
      ],
      "metadata": {
        "id": "ugDVrrLSz3FQ"
      },
      "execution_count": 27,
      "outputs": []
    },
    {
      "cell_type": "code",
      "source": [
        "##############################################\n",
        "# --- Agente 3: Roteirista Expresso (v2) --- #\n",
        "##############################################\n",
        "def agente_roteirista_expresso(tema_escolhido: str, angulo_escolhido: str) -> str:\n",
        "    \"\"\"\n",
        "    Este agente cria um roteiro conciso para um vídeo curto, com Gancho,\n",
        "    Desenvolvimento textual e CTA, além de uma sugestão de legenda,\n",
        "    baseado no tema e ângulo escolhidos.\n",
        "\n",
        "    Args:\n",
        "        tema_escolhido: O tema do vídeo.\n",
        "        angulo_escolhido: O ângulo/formato criativo para o vídeo.\n",
        "\n",
        "    Returns:\n",
        "        Uma string contendo o roteiro bruto e a sugestão de legenda.\n",
        "    \"\"\"\n",
        "    roteirista = Agent(\n",
        "        name=\"agente_roteirista_expresso_v2\",\n",
        "        model=MODEL_ID,\n",
        "        description=\"Agente que cria roteiros concisos e dinâmicos para vídeos curtos (TikTok/Reels) com base em um tema e ângulo.\",\n",
        "        tools=[],\n",
        "        instruction=f\"\"\"\n",
        "        Você é um roteirista de alta performance, especialista em criar roteiros virais e engajadores para vídeos curtos (TikTok/Reels).\n",
        "        Seu objetivo é fornecer um roteiro claro, conciso e com a estrutura ideal para prender a atenção, com texto pronto para ser narrado ou exibido.\n",
        "\n",
        "        **Tema do Vídeo:** \"{tema_escolhido}\"\n",
        "        **Ângulo/Formato Escolhido:** \"{angulo_escolhido}\"\n",
        "\n",
        "        Crie um roteiro detalhado com os seguintes componentes:\n",
        "\n",
        "        1.  **VOZ/TEXTO NA TELA - Gancho (Primeiros 3-5 segundos):**\n",
        "            *   Uma frase ou pergunta extremamente impactante para prender a atenção IMEDIATAMENTE.\n",
        "\n",
        "        2.  **VOZ/TEXTO NA TELA - Desenvolvimento (15-25 segundos):**\n",
        "            *   **Escreva um texto fluido e contínuo que explique o conteúdo principal do vídeo.**\n",
        "            *   Entregue valor ou entretenimento de forma clara, objetiva e rápida.\n",
        "            *   **Evite apenas listar tópicos.** Conecte as ideias em frases completas, como uma narração.\n",
        "\n",
        "        3.  **VOZ/TEXTO NA TELA - Chamada para Ação (CTA - Últimos 3-5 segundos):**\n",
        "            *   Incentive o espectador a realizar uma ação específica.\n",
        "\n",
        "        Além do roteiro, sugira um texto curto e chamativo para a **LEGENDA principal do vídeo** (sem hashtags).\n",
        "        O tom deve ser adequado para o público jovem e dinâmico dessas plataformas.\n",
        "\n",
        "        **Formato da Saída (use EXATAMENTE este formato, com os títulos em negrito):**\n",
        "        ---\n",
        "        **ROTEIRO DO VÍDEO:**\n",
        "\n",
        "        **Gancho (3-5s):**\n",
        "        [Aqui vai o texto para o gancho]\n",
        "\n",
        "        **Desenvolvimento (15-25s):**\n",
        "        [Aqui vai o TEXTO CONTÍNUO E FLUIDO do desenvolvimento, pronto para ser narrado.]\n",
        "\n",
        "        **CTA (3-5s):**\n",
        "        [Aqui vai o texto para a chamada para ação]\n",
        "\n",
        "        ---\n",
        "        **SUGESTÃO DE LEGENDA (sem hashtags):**\n",
        "        [Aqui vai a sugestão de legenda cativante]\n",
        "        ---\n",
        "        \"\"\"\n",
        "    )\n",
        "\n",
        "    entrada_do_agente = f\"Tema: {tema_escolhido}\\nÂngulo: {angulo_escolhido}\\nPor favor, crie o roteiro com desenvolvimento textual e a sugestão de legenda.\"\n",
        "\n",
        "    print(f\"\\n✍️ Agente Roteirista Expresso (v2): Criando roteiro para o tema '{tema_escolhido}' com o ângulo '{angulo_escolhido}'...\")\n",
        "    roteiro_bruto = call_agent(roteirista, entrada_do_agente)\n",
        "    return roteiro_bruto\n",
        "\n",
        "# print(\"Função agente_roteirista_expresso (AJUSTADA v2) definida.\")"
      ],
      "metadata": {
        "id": "ASH5cFmMQ6W_"
      },
      "execution_count": 28,
      "outputs": []
    },
    {
      "cell_type": "code",
      "source": [
        "#######################################################\n",
        "# --- Agente 4: Agente de Refinamento e Finalização (v2) --- #\n",
        "#######################################################\n",
        "def agente_refinamento_final(tema_escolhido: str, angulo_escolhido: str, roteiro_bruto_com_legenda: str) -> str:\n",
        "    \"\"\"\n",
        "    Este agente refina um roteiro bruto, melhora a legenda, adiciona hashtags\n",
        "    estratégicas (usando busca do Google) e opcionalmente sugere\n",
        "    elementos visuais/sonoros.\n",
        "\n",
        "    Args:\n",
        "        tema_escolhido: O tema do vídeo.\n",
        "        angulo_escolhido: O ângulo/formato do vídeo.\n",
        "        roteiro_bruto_com_legenda: O roteiro e legenda gerados pelo Agente 3.\n",
        "\n",
        "    Returns:\n",
        "        Uma string contendo o roteiro finalizado, legenda otimizada, hashtags e sugestões bônus.\n",
        "    \"\"\"\n",
        "    refinador = Agent(\n",
        "        name=\"agente_refinamento_final_v2\",\n",
        "        model=MODEL_ID,\n",
        "        description=\"Agente especialista em otimizar e finalizar roteiros de vídeos curtos, adicionando legendas cativantes e hashtags relevantes.\",\n",
        "        tools=[google_search], # Usa busca para encontrar hashtags relevantes\n",
        "        instruction=f\"\"\"\n",
        "        Você é um Editor Final e Especialista em Otimização de Conteúdo para TikTok e Reels.\n",
        "        Você recebeu o seguinte rascunho de roteiro e sugestão de legenda para um vídeo sobre o tema \"{tema_escolhido}\" com o ângulo \"{angulo_escolhido}\":\n",
        "\n",
        "        <<<RASCUNHO DO AGENTE ANTERIOR>>>\n",
        "        {roteiro_bruto_com_legenda}\n",
        "        <<<FIM DO RASCUNHO>>>\n",
        "\n",
        "        Sua tarefa é refinar e finalizar este material:\n",
        "\n",
        "        1.  **REVISAR E POLIR O ROTEIRO:**\n",
        "            *   Verifique clareza, concisão, ritmo e fluxo.\n",
        "            *   **No Desenvolvimento, assegure que o texto é fluido e narrativo, não apenas tópicos. Se necessário, reescreva para ser mais discursivo.**\n",
        "            *   Ajuste o texto para ser dinâmico e com linguagem natural para vídeos curtos.\n",
        "            *   Respeite os tempos sugeridos (Gancho ~3-5s, Desenvolvimento ~15-25s, CTA ~3-5s).\n",
        "\n",
        "        2.  **REFINAR A LEGENDA:**\n",
        "            *   Melhore a legenda para ser mais cativante e otimizada para engajamento.\n",
        "\n",
        "        3.  **SUGERIR HASHTAGS ESTRATÉGICAS:**\n",
        "            *   Forneça 4-6 hashtags relevantes (use `google_search` para pesquisar tendências para \"{tema_escolhido}\").\n",
        "            *   Misture hashtags amplas e de nicho.\n",
        "\n",
        "        4.  **SUGESTÕES VISUAIS/SONORAS (BÔNUS OPCIONAL):**\n",
        "            *   Se pertinente, sugira 1-2 ideias de elementos visuais simples ou tipo de música de fundo.\n",
        "\n",
        "        **Formato da Saída (use EXATAMENTE este formato):**\n",
        "        ---\n",
        "        **ROTEIRO FINALIZADO E OTIMIZADO:**\n",
        "\n",
        "        **Gancho (3-5s):**\n",
        "        [Texto do Gancho Refinado]\n",
        "\n",
        "        **Desenvolvimento (15-25s):**\n",
        "        [TEXTO CONTÍNUO E FLUIDO do Desenvolvimento Refinado]\n",
        "\n",
        "        **CTA (3-5s):**\n",
        "        [Texto da CTA Refinada]\n",
        "\n",
        "        ---\n",
        "        **LEGENDA FINAL E ENGAJADORA:**\n",
        "        [Texto da Legenda Refinada e Otimizada]\n",
        "\n",
        "        ---\n",
        "        **HASHTAGS ESTRATÉGICAS:**\n",
        "        #hashtag1 #hashtag2 #hashtag3 #hashtag4 #hashtag5\n",
        "\n",
        "        ---\n",
        "        **SUGESTÕES VISUAIS/SONORAS (BÔNUS):**\n",
        "        - Visual: [Sugestão visual, se houver]\n",
        "        - Som: [Sugestão de som/música, se houver]\n",
        "        ---\n",
        "        \"\"\"\n",
        "    )\n",
        "\n",
        "    entrada_do_agente = f\"Material para refinar:\\nTema: {tema_escolhido}\\nÂngulo: {angulo_escolhido}\\nRoteiro e Legenda Brutos:\\n{roteiro_bruto_com_legenda}\\n\\nPor favor, refine este material completamente, garantindo um desenvolvimento textual.\"\n",
        "\n",
        "    print(f\"\\n✨ Agente de Refinamento (v2): Polindo o roteiro para '{tema_escolhido}'...\")\n",
        "    roteiro_finalizado = call_agent(refinador, entrada_do_agente)\n",
        "    return roteiro_finalizado\n",
        "\n",
        "# print(\"Função agente_refinamento_final (AJUSTADA v2) definida.\")"
      ],
      "metadata": {
        "id": "j7LHtgcd8g6_"
      },
      "execution_count": 29,
      "outputs": []
    },
    {
      "cell_type": "code",
      "source": [
        "# --- CÉLULA PRINCIPAL DE EXECUÇÃO DO SISTEMA DE AGENTES (AJUSTADA v2) ---\n",
        "\n",
        "# Obtém a data atual formatada para usar no prompt do Agente 1\n",
        "data_hoje_formatada = date.today().strftime(\"%d/%m/%Y\")\n",
        "\n",
        "print(\"🚀 Bem-vindo ao Criador de Roteiros para Vídeos Curtos! 🚀\")\n",
        "print(\"Este sistema utiliza uma cadeia de 4 agentes para gerar ideias e roteiros.\\n\")\n",
        "\n",
        "# --- Coleta de Entrada do Usuário: Nicho ---\n",
        "nicho = input(\"❓ Por favor, digite o NICHO sobre o qual você quer criar vídeos (ex: culinária vegana, games, reflexologia): \")\n",
        "\n",
        "# Inicializa variáveis que armazenarão os resultados e escolhas\n",
        "tema_escolhido_pelo_usuario = None\n",
        "angulo_escolhido_pelo_usuario = None\n",
        "roteiro_bruto_do_agente3 = None\n",
        "roteiro_final_do_agente4 = None\n",
        "prosseguir_para_proxima_etapa = False # Flag para controlar o fluxo\n",
        "\n",
        "# Verifica se o nicho foi fornecido\n",
        "if not nicho:\n",
        "    print(\"⚠️ Você não digitou um nicho. O processo não pode continuar.\")\n",
        "else:\n",
        "    print(f\"\\nÓtimo! Iniciando o processo para o nicho: '{nicho}'\")\n",
        "\n",
        "    # --- ETAPA 1: Agente Pesquisador de Temas ---\n",
        "    print(\"\\n--- Chamando Agente 1 (Pesquisador de Temas)... ---\")\n",
        "    temas_sugeridos_texto_completo = agente_pesquisador_temas(nicho, data_hoje_formatada)\n",
        "\n",
        "    if temas_sugeridos_texto_completo:\n",
        "        print(\"\\n--- 💡 Resultado do Agente 1 (Pesquisador de Temas) ---\")\n",
        "        display(to_markdown(temas_sugeridos_texto_completo))\n",
        "\n",
        "        temas_lista = []\n",
        "        print(\"\\n--- Processando temas para escolha... ---\")\n",
        "        try:\n",
        "            for linha in temas_sugeridos_texto_completo.split('\\n'):\n",
        "                linha_strip = linha.strip()\n",
        "                if linha_strip and linha_strip[0].isdigit() and '.' in linha_strip.split(' ', 1)[0]:\n",
        "                    partes_tema = linha_strip.split('.', 1)[1].strip()\n",
        "                    tema_texto = partes_tema.split(':', 1)[0].strip().replace('**', '')\n",
        "                    if tema_texto: temas_lista.append(tema_texto)\n",
        "\n",
        "            if temas_lista:\n",
        "                print(\"\\n✅ Temas extraídos com sucesso. Por favor, escolha um:\")\n",
        "                for i, t in enumerate(temas_lista): print(f\"{i+1}. {t}\")\n",
        "\n",
        "                # Loop para obter a escolha do tema do usuário\n",
        "                while True:\n",
        "                    try:\n",
        "                        escolha_num_tema_str = input(f\"Digite o NÚMERO do tema escolhido (1-{len(temas_lista)}): \")\n",
        "                        if not escolha_num_tema_str:\n",
        "                            print(\"Nenhuma entrada detectada. Por favor, digite um número.\")\n",
        "                            continue\n",
        "                        escolha_num_tema = int(escolha_num_tema_str)\n",
        "                        if 1 <= escolha_num_tema <= len(temas_lista):\n",
        "                            tema_escolhido_pelo_usuario = temas_lista[escolha_num_tema-1]\n",
        "                            print(f\"Você escolheu o tema: '{tema_escolhido_pelo_usuario}'\")\n",
        "                            prosseguir_para_proxima_etapa = True # Sinaliza para ir para o Agente 2\n",
        "                            break # Sai do loop de escolha de tema\n",
        "                        else:\n",
        "                            print(f\"Escolha inválida. Digite um número entre 1 e {len(temas_lista)}.\")\n",
        "                    except ValueError:\n",
        "                        print(\"Entrada inválida. Por favor, digite um número.\")\n",
        "                    except Exception as e_input:\n",
        "                        print(f\"Erro inesperado durante o input do tema: {e_input}\")\n",
        "                        prosseguir_para_proxima_etapa = False\n",
        "                        break # Sai do loop em caso de erro inesperado\n",
        "            else:\n",
        "                print(\"\\n⚠️ Não consegui extrair uma lista clara de temas para escolha do Agente 1.\")\n",
        "                prosseguir_para_proxima_etapa = False\n",
        "        except Exception as e_proc:\n",
        "            print(f\"\\n⚠️ Ocorreu um erro ao tentar processar os temas: {e_proc}\")\n",
        "            prosseguir_para_proxima_etapa = False\n",
        "    else:\n",
        "        print(\"⚠️ Não foi possível encontrar temas com o Agente 1. Verifique sua conexão ou tente um nicho diferente.\")\n",
        "        prosseguir_para_proxima_etapa = False\n",
        "\n",
        "\n",
        "    # --- ETAPA 2: Agente Gerador de Ângulos ---\n",
        "    if prosseguir_para_proxima_etapa and tema_escolhido_pelo_usuario:\n",
        "        prosseguir_para_proxima_etapa = False # Reseta o flag para a próxima escolha\n",
        "        print(\"\\n--- Chamando Agente 2 (Gerador de Ângulos)... ---\")\n",
        "        angulos_sugeridos_pelo_agente2 = agente_gerador_angulos(tema_escolhido_pelo_usuario)\n",
        "\n",
        "        if angulos_sugeridos_pelo_agente2:\n",
        "            print(\"\\n--- 🧠 Resultado do Agente 2 (Gerador de Ângulos) ---\")\n",
        "            display(to_markdown(angulos_sugeridos_pelo_agente2))\n",
        "\n",
        "            angulos_lista = []\n",
        "            titulos_angulos_para_escolha = []\n",
        "            print(\"\\n--- Processando ângulos para escolha... ---\")\n",
        "            try:\n",
        "                blocos_de_angulo = angulos_sugeridos_pelo_agente2.split('---')\n",
        "                for bloco in blocos_de_angulo:\n",
        "                    bloco_strip = bloco.strip()\n",
        "                    if not bloco_strip: continue\n",
        "                    titulo_encontrado = None\n",
        "                    for linha_bloco in bloco_strip.split('\\n'):\n",
        "                        linha_limpa = linha_bloco.strip()\n",
        "                        if linha_limpa.upper().startswith(\"ANGULO\") or linha_limpa.upper().startswith(\"**ANGULO\"):\n",
        "                            titulo_encontrado = linha_limpa.split(':', 1)[1].strip().replace('**', '') if ':' in linha_limpa else linha_limpa\n",
        "                            if titulo_encontrado:\n",
        "                                angulos_lista.append(titulo_encontrado)\n",
        "                                titulos_angulos_para_escolha.append(titulo_encontrado)\n",
        "                            break\n",
        "                if angulos_lista:\n",
        "                    print(\"\\n✅ Ângulos extraídos com sucesso. Por favor, escolha um:\")\n",
        "                    for i, a_titulo in enumerate(titulos_angulos_para_escolha): print(f\"{i+1}. {a_titulo}\")\n",
        "\n",
        "                    while True:\n",
        "                        try:\n",
        "                            escolha_num_angulo_str = input(f\"Digite o NÚMERO do ângulo escolhido (1-{len(angulos_lista)}): \")\n",
        "                            if not escolha_num_angulo_str:\n",
        "                                print(\"Nenhuma entrada detectada. Por favor, digite um número.\")\n",
        "                                continue\n",
        "                            escolha_num_angulo = int(escolha_num_angulo_str)\n",
        "                            if 1 <= escolha_num_angulo <= len(angulos_lista):\n",
        "                                angulo_escolhido_pelo_usuario = angulos_lista[escolha_num_angulo-1]\n",
        "                                print(f\"Você escolheu o ângulo: '{angulo_escolhido_pelo_usuario}'\")\n",
        "                                prosseguir_para_proxima_etapa = True # Sinaliza para ir para o Agente 3\n",
        "                                break # Sai do loop de escolha de ângulo\n",
        "                            else:\n",
        "                                print(f\"Escolha inválida. Digite um número entre 1 e {len(angulos_lista)}.\")\n",
        "                        except ValueError:\n",
        "                            print(\"Entrada inválida. Por favor, digite um número.\")\n",
        "                        except Exception as e_input_ang:\n",
        "                            print(f\"Erro inesperado durante o input do ângulo: {e_input_ang}\")\n",
        "                            prosseguir_para_proxima_etapa = False\n",
        "                            break\n",
        "                else:\n",
        "                    print(\"\\n⚠️ Não consegui extrair uma lista clara de ângulos para escolha do Agente 2.\")\n",
        "                    prosseguir_para_proxima_etapa = False\n",
        "            except Exception as e_proc_ang:\n",
        "                print(f\"\\n⚠️ Ocorreu um erro ao tentar processar os ângulos: {e_proc_ang}\")\n",
        "                prosseguir_para_proxima_etapa = False\n",
        "        else:\n",
        "            print(f\"⚠️ Não foi possível gerar ângulos com o Agente 2.\")\n",
        "            prosseguir_para_proxima_etapa = False\n",
        "\n",
        "\n",
        "    # --- ETAPA 3: Agente Roteirista Expresso ---\n",
        "    if prosseguir_para_proxima_etapa and angulo_escolhido_pelo_usuario:\n",
        "        prosseguir_para_proxima_etapa = False # Reseta para a próxima etapa (se houver)\n",
        "        print(\"\\n--- Chamando Agente 3 (Roteirista Expresso)... ---\")\n",
        "        roteiro_bruto_do_agente3 = agente_roteirista_expresso(tema_escolhido_pelo_usuario, angulo_escolhido_pelo_usuario)\n",
        "\n",
        "        if roteiro_bruto_do_agente3:\n",
        "            print(\"\\n--- ✍️ Resultado do Agente 3 (Roteirista Expresso) ---\")\n",
        "            display(to_markdown(roteiro_bruto_do_agente3))\n",
        "            prosseguir_para_proxima_etapa = True # Sinaliza para ir para o Agente 4\n",
        "        else:\n",
        "            print(f\"⚠️ Não foi possível gerar um roteiro bruto com o Agente 3.\")\n",
        "            prosseguir_para_proxima_etapa = False\n",
        "\n",
        "\n",
        "    # --- ETAPA 4: Agente de Refinamento e Finalização ---\n",
        "    if prosseguir_para_proxima_etapa and roteiro_bruto_do_agente3: # Verifica se o roteiro bruto existe\n",
        "        print(\"\\n--- Chamando Agente 4 (Refinamento)... ---\")\n",
        "        roteiro_final_do_agente4 = agente_refinamento_final(tema_escolhido_pelo_usuario, angulo_escolhido_pelo_usuario, roteiro_bruto_do_agente3)\n",
        "        if roteiro_final_do_agente4:\n",
        "            print(\"\\n--- ✨ Resultado do Agente 4 (Refinamento e Finalização) ---\")\n",
        "            display(to_markdown(roteiro_final_do_agente4))\n",
        "            print(\"\\n🎉 Processo concluído! Seu roteiro está pronto! 🎉\")\n",
        "        else:\n",
        "            print(\"⚠️ Não foi possível refinar o roteiro com o Agente 4.\")\n",
        "    elif tema_escolhido_pelo_usuario and angulo_escolhido_pelo_usuario and not roteiro_bruto_do_agente3:\n",
        "        # Se chegamos aqui, significa que Agente 3 falhou, mas as escolhas anteriores foram feitas\n",
        "        pass # A mensagem de erro do Agente 3 já foi impressa\n",
        "    elif tema_escolhido_pelo_usuario and not angulo_escolhido_pelo_usuario:\n",
        "        pass # A mensagem de erro do Agente 2 ou da escolha do ângulo já foi impressa\n",
        "    elif nicho and not tema_escolhido_pelo_usuario:\n",
        "        pass # A mensagem de erro do Agente 1 ou da escolha do tema já foi impressa\n",
        "\n",
        "    print(\"--------------------------------------------------------------\")"
      ],
      "metadata": {
        "colab": {
          "base_uri": "https://localhost:8080/",
          "height": 1000
        },
        "id": "ECsIbMGuRKen",
        "outputId": "57044337-7eae-4026-c7d6-c318e2988b3b"
      },
      "execution_count": 32,
      "outputs": [
        {
          "output_type": "stream",
          "name": "stdout",
          "text": [
            "🚀 Bem-vindo ao Criador de Roteiros para Vídeos Curtos! 🚀\n",
            "Este sistema utiliza uma cadeia de 4 agentes para gerar ideias e roteiros.\n",
            "\n",
            "❓ Por favor, digite o NICHO sobre o qual você quer criar vídeos (ex: culinária vegana, games, reflexologia): futebol\n",
            "\n",
            "Ótimo! Iniciando o processo para o nicho: 'futebol'\n",
            "\n",
            "--- Chamando Agente 1 (Pesquisador de Temas)... ---\n",
            "\n",
            "🔎 Agente Pesquisador de Temas: Buscando temas para o nicho 'futebol'...\n",
            "\n",
            "--- 💡 Resultado do Agente 1 (Pesquisador de Temas) ---\n"
          ]
        },
        {
          "output_type": "display_data",
          "data": {
            "text/plain": [
              "<IPython.core.display.Markdown object>"
            ],
            "text/markdown": "> Ok, vou usar a ferramenta de busca do Google para encontrar os tópicos mais recentes e relevantes sobre futebol para vídeos curtos (TikTok, Reels) nas últimas 2-4 semanas.\n> \n> Com base nas minhas buscas, aqui estão 5 temas em alta no nicho de futebol que parecem promissores para vídeos curtos:\n> \n> 1.  **Desafios de Habilidade com a Bola:** Desafios de embaixadinhas, domínio de bola, ou chutes precisos ainda são muito populares. Vídeos curtos mostrando criatividade e habilidade individual têm grande potencial de viralização.\n> 2.  **Bastidores e Curiosidades dos Clubes:** Mostrar o dia a dia dos jogadores, treinos, momentos de descontração e curiosidades sobre os times geram grande engajamento. Conteúdo exclusivo e acesso privilegiado são sempre atrativos.\n> 3.  **Análise Tática Rápida e Visual:** Explicar jogadas complexas, formações táticas e estratégias de jogo de forma simples e visualmente atraente. Usar gráficos e animações pode facilitar a compreensão e atrair um público mais amplo.\n> 4.  **Reações a Gols e Lances Polêmicos:** Gravar reações autênticas a momentos marcantes dos jogos, como golaços, defesas incríveis e lances polêmicos. O elemento surpresa e a emoção genuína podem gerar identificação e compartilhamento.\n> 5.  **Conteúdo Humorístico e Paródias:** Criar vídeos engraçados com temas relacionados ao futebol, como imitações de jogadores, situações inusitadas em campo e paródias de músicas e memes populares. O humor é uma ótima forma de atrair atenção e gerar engajamento."
          },
          "metadata": {}
        },
        {
          "output_type": "stream",
          "name": "stdout",
          "text": [
            "\n",
            "--- Processando temas para escolha... ---\n",
            "\n",
            "✅ Temas extraídos com sucesso. Por favor, escolha um:\n",
            "1. Desafios de Habilidade com a Bola\n",
            "2. Bastidores e Curiosidades dos Clubes\n",
            "3. Análise Tática Rápida e Visual\n",
            "4. Reações a Gols e Lances Polêmicos\n",
            "5. Conteúdo Humorístico e Paródias\n",
            "Digite o NÚMERO do tema escolhido (1-5): 2\n",
            "Você escolheu o tema: 'Bastidores e Curiosidades dos Clubes'\n",
            "\n",
            "--- Chamando Agente 2 (Gerador de Ângulos)... ---\n",
            "\n",
            "🧠 Agente Gerador de Ângulos (v2): Criando ângulos para o tema 'Bastidores e Curiosidades dos Clubes'...\n",
            "\n",
            "--- 🧠 Resultado do Agente 2 (Gerador de Ângulos) ---\n"
          ]
        },
        {
          "output_type": "display_data",
          "data": {
            "text/plain": [
              "<IPython.core.display.Markdown object>"
            ],
            "text/markdown": "> **ANGULO X:** O Ritual Secreto Antes do Jogo!\n> **DESCRIÇÃO:** Vídeo mostrando o \"esquenta\" inusitado dos jogadores antes de entrar em campo, com superstições, músicas motivacionais e até dancinhas.\n> \n> ---\n> **ANGULO X:** Tour Bizarro pelo CT: O Que Ninguém Te Mostra!\n> **DESCRIÇÃO:** Revelar os cantos \"proibidos\" do centro de treinamento, como a sala de jogos ultra competitiva, o mural de fotos constrangedoras e os apelidos internos dos atletas.\n> \n> ---\n> **ANGULO X:** A Cantina dos Craques: Cardápio Secreto e Pedidos Bizarros!\n> **DESCRIÇÃO:** Um dia na cantina do clube, mostrando os pratos preferidos dos jogadores, os pedidos mais estranhos e as receitas secretas que turbinam o desempenho em campo.\n"
          },
          "metadata": {}
        },
        {
          "output_type": "stream",
          "name": "stdout",
          "text": [
            "\n",
            "--- Processando ângulos para escolha... ---\n",
            "\n",
            "✅ Ângulos extraídos com sucesso. Por favor, escolha um:\n",
            "1.  O Ritual Secreto Antes do Jogo!\n",
            "2.  Tour Bizarro pelo CT: O Que Ninguém Te Mostra!\n",
            "3.  A Cantina dos Craques: Cardápio Secreto e Pedidos Bizarros!\n",
            "Digite o NÚMERO do ângulo escolhido (1-3): 3\n",
            "Você escolheu o ângulo: ' A Cantina dos Craques: Cardápio Secreto e Pedidos Bizarros!'\n",
            "\n",
            "--- Chamando Agente 3 (Roteirista Expresso)... ---\n",
            "\n",
            "✍️ Agente Roteirista Expresso (v2): Criando roteiro para o tema 'Bastidores e Curiosidades dos Clubes' com o ângulo ' A Cantina dos Craques: Cardápio Secreto e Pedidos Bizarros!'...\n",
            "\n",
            "--- ✍️ Resultado do Agente 3 (Roteirista Expresso) ---\n"
          ]
        },
        {
          "output_type": "display_data",
          "data": {
            "text/plain": [
              "<IPython.core.display.Markdown object>"
            ],
            "text/markdown": "> Ok, vamos criar um roteiro viral para um vídeo curto sobre os bastidores da cantina dos clubes de futebol!\n> \n> **ROTEIRO DO VÍDEO:**\n> \n> **Gancho (3-5s):**\n> Já imaginou o que os craques comem pra ter tanta energia? 🤯 A gente invadiu a cantina pra descobrir os segredos!\n> \n> **Desenvolvimento (15-25s):**\n> Se liga! No cardápio secreto dos clubes, não tem só frango com batata doce, viu? Tem de tudo! Desde pratos personalizados pros atletas que precisam de uma dieta específica, até os famosos \"pedidos de última hora\" antes do jogo. Adivinha só: rola até umas superstições bizarras! Tem jogador que só come macarrão à bolonhesa, outro que jura que o suco de beterraba dá superpoderes, e aquele que não entra em campo sem o brigadeiro da sorte! E a resenha rola solta! A cantina é palco de muita zoeira, aposta e histórias engraçadas que a gente, infelizmente, não pode contar! 🤫\n> \n> **CTA (3-5s):**\n> Curtiu saber dos bastidores? Então comenta qual outro segredo de clube você quer que a gente revele! 👇\n> \n> ---\n> **SUGESTÃO DE LEGENDA (sem hashtags):**\n> O que os jogadores comem? 🤫 A gente te conta os segredos da cantina dos clubes! ⚽️\n> ---"
          },
          "metadata": {}
        },
        {
          "output_type": "stream",
          "name": "stdout",
          "text": [
            "\n",
            "--- Chamando Agente 4 (Refinamento)... ---\n",
            "\n",
            "✨ Agente de Refinamento (v2): Polindo o roteiro para 'Bastidores e Curiosidades dos Clubes'...\n",
            "\n",
            "--- ✨ Resultado do Agente 4 (Refinamento e Finalização) ---\n"
          ]
        },
        {
          "output_type": "display_data",
          "data": {
            "text/plain": [
              "<IPython.core.display.Markdown object>"
            ],
            "text/markdown": "> ---\n> **ROTEIRO FINALIZADO E OTIMIZADO:**\n> \n> **Gancho (3-5s):**\n> E aí, curioso! Já se perguntou o que os craques comem pra voar em campo? 🤯 A gente invadiu a cantina e descobriu cada segredo!\n> \n> **Desenvolvimento (15-25s):**\n> Esqueça o frango com batata doce! 😜 Nos bastidores, o cardápio é turbinado: tem pratos feitos sob medida para cada atleta, com a nutrição que eles precisam pra dar show. Mas o que ninguém imagina são os \"pedidos de última hora\"... e as superstições! 😅 Tem jogador que só joga bem se comer macarrão à bolonhesa, outro que toma suco de beterraba achando que vira o Hulk, e não pode faltar o brigadeiro da sorte, né? 🍀 E, claro, a cantina ferve com a resenha, as apostas e as histórias que... bem, o que acontece na cantina, fica na cantina! 🤫\n> \n> **CTA (3-5s):**\n> Qual outro segredo dos clubes você quer que a gente desvende? Deixa nos comentários! 👇\n> \n> ---\n> **LEGENDA FINAL E ENGAJADORA:**\n> Cardápio secreto dos craques REVELADO! 🤫 Descobrimos o que os jogadores comem pra ter tanta energia em campo! ⚽️ Quer mais bastidores? 👀\n> \n> ---\n> **HASHTAGS ESTRATÉGICAS:**\n> #CantinaDosCraques #BastidoresDoFutebol #CuriosidadesDoFutebol #FutebolBrasileiro #AlimentacaoNoFutebol #JogadoresDeFutebol\n> \n> ---\n> **SUGESTÕES VISUAIS/SONORAS (BÔNUS):**\n> - Visual: Imagens dinâmicas da cantina, pratos sendo preparados, jogadores interagindo (mesmo que ilustrativas/genéricas). Animações de \"segredos\" sendo revelados.\n> - Som: Música de fundo animada e divertida, com efeitos sonoros de \"suspense\" ao revelar os segredos.\n> ---"
          },
          "metadata": {}
        },
        {
          "output_type": "stream",
          "name": "stdout",
          "text": [
            "\n",
            "🎉 Processo concluído! Seu roteiro está pronto! 🎉\n",
            "--------------------------------------------------------------\n"
          ]
        }
      ]
    }
  ]
}